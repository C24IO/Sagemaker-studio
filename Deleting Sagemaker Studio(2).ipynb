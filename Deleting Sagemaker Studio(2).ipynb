{
 "cells": [
  {
   "cell_type": "code",
   "execution_count": null,
   "metadata": {},
   "outputs": [],
   "source": [
    "import boto3\n",
    "\n",
    "client = boto3.client('sagemaker')"
   ]
  },
  {
   "cell_type": "code",
   "execution_count": null,
   "metadata": {},
   "outputs": [],
   "source": [
    "response = client.describe_domain(\n",
    "    DomainId='<enter your domain id>'#enter your domain id\n",
    ")"
   ]
  },
  {
   "cell_type": "code",
   "execution_count": null,
   "metadata": {},
   "outputs": [],
   "source": [
    "print(response)"
   ]
  },
  {
   "cell_type": "code",
   "execution_count": null,
   "metadata": {},
   "outputs": [],
   "source": [
    "response = client.delete_domain(\n",
    "    DomainId='<enter your domain id>',\n",
    "    RetentionPolicy={\n",
    "        'HomeEfsFileSystem':'Delete'\n",
    "    }\n",
    ")\n",
    "print(response)"
   ]
  },
  {
   "cell_type": "code",
   "execution_count": null,
   "metadata": {},
   "outputs": [],
   "source": [
    "response = client.list_apps(\n",
    "    DomainIdEquals='<enter your domain id>'\n",
    ")\n",
    "print(response)"
   ]
  },
  {
   "cell_type": "code",
   "execution_count": null,
   "metadata": {},
   "outputs": [],
   "source": [
    "response = client.delete_user_profile(\n",
    "    DomainId='<enter your domain id>',\n",
    "    UserProfileName='<enter your use profile>'\n",
    ")\n",
    "print(response)"
   ]
  },
  {
   "cell_type": "code",
   "execution_count": null,
   "metadata": {},
   "outputs": [],
   "source": [
    "response = client.delete_app(\n",
    "    DomainId='<enter your domain id>',\n",
    "    UserProfileName='<enter your user profile>',\n",
    "    AppType='JupyterServer',\n",
    "    AppName='default'\n",
    ")\n",
    "print(response)"
   ]
  },
  {
   "cell_type": "code",
   "execution_count": null,
   "metadata": {},
   "outputs": [],
   "source": [
    "response = client.delete_app(\n",
    "    DomainId='<enter your domain id>',\n",
    "    UserProfileName='<enter your user profile>',\n",
    "    AppType='KernelGateway',\n",
    "    AppName='tensorflow-cpu-optimized'\n",
    ")\n",
    "print(response)"
   ]
  },
  {
   "cell_type": "code",
   "execution_count": null,
   "metadata": {},
   "outputs": [],
   "source": [
    "response = client.delete_app(\n",
    "    DomainId='<enter your domain id>',\n",
    "    UserProfileName='<enter your user profile>',\n",
    "    AppType='KernelGateway',\n",
    "    AppName='datascience'\n",
    ")\n",
    "print(response)"
   ]
  },
  {
   "cell_type": "code",
   "execution_count": null,
   "metadata": {},
   "outputs": [],
   "source": [
    "response = client.delete_app(\n",
    "    DomainId='<enter your domain id>',\n",
    "    UserProfileName='<enter your user profile>',\n",
    "    AppType='KernelGateway',\n",
    "    AppName='base-python'\n",
    ")\n",
    "print(response)"
   ]
  },
  {
   "cell_type": "code",
   "execution_count": null,
   "metadata": {},
   "outputs": [],
   "source": []
  }
 ],
 "metadata": {
  "kernelspec": {
   "display_name": "conda_python3",
   "language": "python",
   "name": "conda_python3"
  },
  "language_info": {
   "codemirror_mode": {
    "name": "ipython",
    "version": 3
   },
   "file_extension": ".py",
   "mimetype": "text/x-python",
   "name": "python",
   "nbconvert_exporter": "python",
   "pygments_lexer": "ipython3",
   "version": "3.6.5"
  }
 },
 "nbformat": 4,
 "nbformat_minor": 2
}
