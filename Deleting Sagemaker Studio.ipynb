{
 "cells": [
  {
   "cell_type": "code",
   "execution_count": 1,
   "metadata": {},
   "outputs": [],
   "source": [
    "import boto3\n",
    "\n",
    "client = boto3.client('sagemaker')"
   ]
  },
  {
   "cell_type": "code",
   "execution_count": 2,
   "metadata": {},
   "outputs": [],
   "source": [
    "response = client.describe_domain(\n",
    "    DomainId='d-rwmbd1gzal1z'#enter your domain id\n",
    ")"
   ]
  },
  {
   "cell_type": "code",
   "execution_count": 4,
   "metadata": {},
   "outputs": [
    {
     "name": "stdout",
     "output_type": "stream",
     "text": [
      "{'DomainArn': 'arn:aws:sagemaker:us-east-2:820570838999:domain/d-rwmbd1gzal1z', 'DomainId': 'd-rwmbd1gzal1z', 'DomainName': 'default-1575579223877', 'HomeEfsFileSystemId': 'fs-35bab44c', 'SingleSignOnManagedApplicationInstanceId': 'ins-c429db81069c1dee', 'Status': 'InService', 'CreationTime': datetime.datetime(2019, 12, 5, 20, 53, 45, 570000, tzinfo=tzlocal()), 'LastModifiedTime': datetime.datetime(2019, 12, 5, 20, 59, 2, 684000, tzinfo=tzlocal()), 'AuthMode': 'SSO', 'DefaultUserSettings': {'ExecutionRole': 'arn:aws:iam::820570838999:role/service-role/sgdemo-AmazonSageMaker-ExecutionRole', 'SharingSettings': {'NotebookOutputOption': 'Allowed', 'S3OutputPath': 's3://sagemaker-studio-820570838999-nznmv3ck4u/sharing'}}, 'SubnetIds': ['subnet-72b6871b', 'subnet-bb279ef6', 'subnet-2fcaba54'], 'Url': 'https://d-rwmbd1gzal1z.studio.us-east-2.sagemaker.aws', 'VpcId': 'vpc-6dfbda04', 'ResponseMetadata': {'RequestId': '7e8c2aeb-d016-4075-ba26-5b56197040aa', 'HTTPStatusCode': 200, 'HTTPHeaders': {'x-amzn-requestid': '7e8c2aeb-d016-4075-ba26-5b56197040aa', 'content-type': 'application/x-amz-json-1.1', 'content-length': '790', 'date': 'Tue, 04 Feb 2020 20:30:29 GMT'}, 'RetryAttempts': 0}}\n"
     ]
    }
   ],
   "source": [
    "print(response)"
   ]
  },
  {
   "cell_type": "code",
   "execution_count": 28,
   "metadata": {},
   "outputs": [
    {
     "name": "stdout",
     "output_type": "stream",
     "text": [
      "{'ResponseMetadata': {'RequestId': '8d2b3ab5-4ff5-4432-9de1-d3b14b3ece5f', 'HTTPStatusCode': 200, 'HTTPHeaders': {'x-amzn-requestid': '8d2b3ab5-4ff5-4432-9de1-d3b14b3ece5f', 'content-type': 'application/x-amz-json-1.1', 'content-length': '0', 'date': 'Tue, 04 Feb 2020 20:56:18 GMT'}, 'RetryAttempts': 0}}\n"
     ]
    }
   ],
   "source": [
    "response = client.delete_domain(\n",
    "    DomainId='d-rwmbd1gzal1z',\n",
    "    RetentionPolicy={\n",
    "        'HomeEfsFileSystem':'Delete'\n",
    "    }\n",
    ")\n",
    "print(response)"
   ]
  },
  {
   "cell_type": "code",
   "execution_count": 27,
   "metadata": {},
   "outputs": [
    {
     "name": "stdout",
     "output_type": "stream",
     "text": [
      "{'Apps': [{'DomainId': 'd-rwmbd1gzal1z', 'UserProfileName': 'monamo-amazon-com-11f', 'AppType': 'KernelGateway', 'AppName': 'base-python', 'Status': 'Deleted', 'CreationTime': datetime.datetime(2020, 2, 4, 20, 27, 15, 169000, tzinfo=tzlocal())}, {'DomainId': 'd-rwmbd1gzal1z', 'UserProfileName': 'monamo-amazon-com-11f', 'AppType': 'KernelGateway', 'AppName': 'datascience', 'Status': 'Deleted', 'CreationTime': datetime.datetime(2020, 2, 4, 20, 17, 1, 699000, tzinfo=tzlocal())}, {'DomainId': 'd-rwmbd1gzal1z', 'UserProfileName': 'monamo-amazon-com-11f', 'AppType': 'KernelGateway', 'AppName': 'tensorflow-cpu-optimized', 'Status': 'Deleted', 'CreationTime': datetime.datetime(2019, 12, 18, 20, 32, 30, 687000, tzinfo=tzlocal())}, {'DomainId': 'd-rwmbd1gzal1z', 'UserProfileName': 'monamo-amazon-com-11f', 'AppType': 'JupyterServer', 'AppName': 'default', 'Status': 'Deleted', 'CreationTime': datetime.datetime(2019, 12, 16, 20, 45, 32, 620000, tzinfo=tzlocal())}], 'ResponseMetadata': {'RequestId': 'ec2a7aaa-7e8f-4ff0-9cf8-a17e3d216888', 'HTTPStatusCode': 200, 'HTTPHeaders': {'x-amzn-requestid': 'ec2a7aaa-7e8f-4ff0-9cf8-a17e3d216888', 'content-type': 'application/x-amz-json-1.1', 'content-length': '710', 'date': 'Tue, 04 Feb 2020 20:56:12 GMT'}, 'RetryAttempts': 0}}\n"
     ]
    }
   ],
   "source": [
    "response = client.list_apps(\n",
    "    DomainIdEquals='d-rwmbd1gzal1z'\n",
    ")\n",
    "print(response)"
   ]
  },
  {
   "cell_type": "code",
   "execution_count": 26,
   "metadata": {},
   "outputs": [
    {
     "name": "stdout",
     "output_type": "stream",
     "text": [
      "{'ResponseMetadata': {'RequestId': '56b9eee0-7cdf-497e-a2ff-23e4fddf1945', 'HTTPStatusCode': 200, 'HTTPHeaders': {'x-amzn-requestid': '56b9eee0-7cdf-497e-a2ff-23e4fddf1945', 'content-type': 'application/x-amz-json-1.1', 'content-length': '0', 'date': 'Tue, 04 Feb 2020 20:56:04 GMT'}, 'RetryAttempts': 0}}\n"
     ]
    }
   ],
   "source": [
    "response = client.delete_user_profile(\n",
    "    DomainId='d-rwmbd1gzal1z',\n",
    "    UserProfileName='monamo-amazon-com-11f'\n",
    ")\n",
    "print(response)"
   ]
  },
  {
   "cell_type": "code",
   "execution_count": 23,
   "metadata": {},
   "outputs": [
    {
     "name": "stdout",
     "output_type": "stream",
     "text": [
      "{'ResponseMetadata': {'RequestId': '53a54170-f2b8-4d63-865c-30341b1036c2', 'HTTPStatusCode': 200, 'HTTPHeaders': {'x-amzn-requestid': '53a54170-f2b8-4d63-865c-30341b1036c2', 'content-type': 'application/x-amz-json-1.1', 'content-length': '0', 'date': 'Tue, 04 Feb 2020 20:53:47 GMT'}, 'RetryAttempts': 0}}\n"
     ]
    }
   ],
   "source": [
    "response = client.delete_app(\n",
    "    DomainId='d-rwmbd1gzal1z',\n",
    "    UserProfileName='monamo-amazon-com-11f',\n",
    "    AppType='JupyterServer',\n",
    "    AppName='default'\n",
    ")\n",
    "print(response)"
   ]
  },
  {
   "cell_type": "code",
   "execution_count": 22,
   "metadata": {},
   "outputs": [
    {
     "name": "stdout",
     "output_type": "stream",
     "text": [
      "{'ResponseMetadata': {'RequestId': '145644d0-53ce-4f41-bb6c-f7519e01c110', 'HTTPStatusCode': 200, 'HTTPHeaders': {'x-amzn-requestid': '145644d0-53ce-4f41-bb6c-f7519e01c110', 'content-type': 'application/x-amz-json-1.1', 'content-length': '0', 'date': 'Tue, 04 Feb 2020 20:52:56 GMT'}, 'RetryAttempts': 0}}\n"
     ]
    }
   ],
   "source": [
    "response = client.delete_app(\n",
    "    DomainId='d-rwmbd1gzal1z',\n",
    "    UserProfileName='monamo-amazon-com-11f',\n",
    "    AppType='KernelGateway',\n",
    "    AppName='tensorflow-cpu-optimized'\n",
    ")\n",
    "print(response)"
   ]
  },
  {
   "cell_type": "code",
   "execution_count": 21,
   "metadata": {},
   "outputs": [
    {
     "name": "stdout",
     "output_type": "stream",
     "text": [
      "{'ResponseMetadata': {'RequestId': 'd259a989-3383-4b8e-a62e-c87e3077c5c8', 'HTTPStatusCode': 200, 'HTTPHeaders': {'x-amzn-requestid': 'd259a989-3383-4b8e-a62e-c87e3077c5c8', 'content-type': 'application/x-amz-json-1.1', 'content-length': '0', 'date': 'Tue, 04 Feb 2020 20:51:50 GMT'}, 'RetryAttempts': 0}}\n"
     ]
    }
   ],
   "source": [
    "response = client.delete_app(\n",
    "    DomainId='d-rwmbd1gzal1z',\n",
    "    UserProfileName='monamo-amazon-com-11f',\n",
    "    AppType='KernelGateway',\n",
    "    AppName='datascience'\n",
    ")\n",
    "print(response)"
   ]
  },
  {
   "cell_type": "code",
   "execution_count": 20,
   "metadata": {},
   "outputs": [
    {
     "ename": "ClientError",
     "evalue": "An error occurred (ValidationException) when calling the DeleteApp operation: State transition from [Deleted] to [Deleting] is not allowed.",
     "output_type": "error",
     "traceback": [
      "\u001b[0;31m---------------------------------------------------------------------------\u001b[0m",
      "\u001b[0;31mClientError\u001b[0m                               Traceback (most recent call last)",
      "\u001b[0;32m<ipython-input-20-32d579b31837>\u001b[0m in \u001b[0;36m<module>\u001b[0;34m()\u001b[0m\n\u001b[1;32m      3\u001b[0m     \u001b[0mUserProfileName\u001b[0m\u001b[0;34m=\u001b[0m\u001b[0;34m'monamo-amazon-com-11f'\u001b[0m\u001b[0;34m,\u001b[0m\u001b[0;34m\u001b[0m\u001b[0m\n\u001b[1;32m      4\u001b[0m     \u001b[0mAppType\u001b[0m\u001b[0;34m=\u001b[0m\u001b[0;34m'KernelGateway'\u001b[0m\u001b[0;34m,\u001b[0m\u001b[0;34m\u001b[0m\u001b[0m\n\u001b[0;32m----> 5\u001b[0;31m     \u001b[0mAppName\u001b[0m\u001b[0;34m=\u001b[0m\u001b[0;34m'base-python'\u001b[0m\u001b[0;34m\u001b[0m\u001b[0m\n\u001b[0m\u001b[1;32m      6\u001b[0m )\n\u001b[1;32m      7\u001b[0m \u001b[0mprint\u001b[0m\u001b[0;34m(\u001b[0m\u001b[0mresponse\u001b[0m\u001b[0;34m)\u001b[0m\u001b[0;34m\u001b[0m\u001b[0m\n",
      "\u001b[0;32m~/anaconda3/envs/python3/lib/python3.6/site-packages/botocore/client.py\u001b[0m in \u001b[0;36m_api_call\u001b[0;34m(self, *args, **kwargs)\u001b[0m\n\u001b[1;32m    355\u001b[0m                     \"%s() only accepts keyword arguments.\" % py_operation_name)\n\u001b[1;32m    356\u001b[0m             \u001b[0;31m# The \"self\" in this scope is referring to the BaseClient.\u001b[0m\u001b[0;34m\u001b[0m\u001b[0;34m\u001b[0m\u001b[0m\n\u001b[0;32m--> 357\u001b[0;31m             \u001b[0;32mreturn\u001b[0m \u001b[0mself\u001b[0m\u001b[0;34m.\u001b[0m\u001b[0m_make_api_call\u001b[0m\u001b[0;34m(\u001b[0m\u001b[0moperation_name\u001b[0m\u001b[0;34m,\u001b[0m \u001b[0mkwargs\u001b[0m\u001b[0;34m)\u001b[0m\u001b[0;34m\u001b[0m\u001b[0m\n\u001b[0m\u001b[1;32m    358\u001b[0m \u001b[0;34m\u001b[0m\u001b[0m\n\u001b[1;32m    359\u001b[0m         \u001b[0m_api_call\u001b[0m\u001b[0;34m.\u001b[0m\u001b[0m__name__\u001b[0m \u001b[0;34m=\u001b[0m \u001b[0mstr\u001b[0m\u001b[0;34m(\u001b[0m\u001b[0mpy_operation_name\u001b[0m\u001b[0;34m)\u001b[0m\u001b[0;34m\u001b[0m\u001b[0m\n",
      "\u001b[0;32m~/anaconda3/envs/python3/lib/python3.6/site-packages/botocore/client.py\u001b[0m in \u001b[0;36m_make_api_call\u001b[0;34m(self, operation_name, api_params)\u001b[0m\n\u001b[1;32m    659\u001b[0m             \u001b[0merror_code\u001b[0m \u001b[0;34m=\u001b[0m \u001b[0mparsed_response\u001b[0m\u001b[0;34m.\u001b[0m\u001b[0mget\u001b[0m\u001b[0;34m(\u001b[0m\u001b[0;34m\"Error\"\u001b[0m\u001b[0;34m,\u001b[0m \u001b[0;34m{\u001b[0m\u001b[0;34m}\u001b[0m\u001b[0;34m)\u001b[0m\u001b[0;34m.\u001b[0m\u001b[0mget\u001b[0m\u001b[0;34m(\u001b[0m\u001b[0;34m\"Code\"\u001b[0m\u001b[0;34m)\u001b[0m\u001b[0;34m\u001b[0m\u001b[0m\n\u001b[1;32m    660\u001b[0m             \u001b[0merror_class\u001b[0m \u001b[0;34m=\u001b[0m \u001b[0mself\u001b[0m\u001b[0;34m.\u001b[0m\u001b[0mexceptions\u001b[0m\u001b[0;34m.\u001b[0m\u001b[0mfrom_code\u001b[0m\u001b[0;34m(\u001b[0m\u001b[0merror_code\u001b[0m\u001b[0;34m)\u001b[0m\u001b[0;34m\u001b[0m\u001b[0m\n\u001b[0;32m--> 661\u001b[0;31m             \u001b[0;32mraise\u001b[0m \u001b[0merror_class\u001b[0m\u001b[0;34m(\u001b[0m\u001b[0mparsed_response\u001b[0m\u001b[0;34m,\u001b[0m \u001b[0moperation_name\u001b[0m\u001b[0;34m)\u001b[0m\u001b[0;34m\u001b[0m\u001b[0m\n\u001b[0m\u001b[1;32m    662\u001b[0m         \u001b[0;32melse\u001b[0m\u001b[0;34m:\u001b[0m\u001b[0;34m\u001b[0m\u001b[0m\n\u001b[1;32m    663\u001b[0m             \u001b[0;32mreturn\u001b[0m \u001b[0mparsed_response\u001b[0m\u001b[0;34m\u001b[0m\u001b[0m\n",
      "\u001b[0;31mClientError\u001b[0m: An error occurred (ValidationException) when calling the DeleteApp operation: State transition from [Deleted] to [Deleting] is not allowed."
     ]
    }
   ],
   "source": [
    "response = client.delete_app(\n",
    "    DomainId='d-rwmbd1gzal1z',\n",
    "    UserProfileName='monamo-amazon-com-11f',\n",
    "    AppType='KernelGateway',\n",
    "    AppName='base-python'\n",
    ")\n",
    "print(response)"
   ]
  },
  {
   "cell_type": "code",
   "execution_count": null,
   "metadata": {},
   "outputs": [],
   "source": []
  }
 ],
 "metadata": {
  "kernelspec": {
   "display_name": "conda_python3",
   "language": "python",
   "name": "conda_python3"
  },
  "language_info": {
   "codemirror_mode": {
    "name": "ipython",
    "version": 3
   },
   "file_extension": ".py",
   "mimetype": "text/x-python",
   "name": "python",
   "nbconvert_exporter": "python",
   "pygments_lexer": "ipython3",
   "version": "3.6.5"
  }
 },
 "nbformat": 4,
 "nbformat_minor": 2
}
